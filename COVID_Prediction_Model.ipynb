{
 "cells": [
  {
   "cell_type": "markdown",
   "id": "a85f7015",
   "metadata": {},
   "source": [
    "# COVID-19 Prediction Model with Enhanced Techniques"
   ]
  },
  {
   "cell_type": "code",
   "execution_count": 184,
   "id": "ac5b3033",
   "metadata": {},
   "outputs": [],
   "source": [
    "import pandas as pd\n",
    "import numpy as np\n",
    "from sklearn.model_selection import train_test_split, GridSearchCV, StratifiedKFold\n",
    "from sklearn.tree import DecisionTreeClassifier\n",
    "from sklearn.ensemble import RandomForestClassifier\n",
    "from sklearn.metrics import accuracy_score, confusion_matrix, f1_score, classification_report\n",
    "from sklearn.feature_selection import SelectKBest, f_classif\n",
    "from sklearn.preprocessing import StandardScaler\n",
    "from imblearn.combine import SMOTETomek\n",
    "import matplotlib.pyplot as plt\n",
    "import seaborn as sns\n",
    "from sklearn.model_selection import RandomizedSearchCV"
   ]
  },
  {
   "cell_type": "code",
   "execution_count": 185,
   "id": "d51ed64d",
   "metadata": {},
   "outputs": [],
   "source": [
    "\n",
    "# Definir os arquivos de treino e teste\n",
    "train_files = [\n",
    "    'lbp-train-fold_0.csv', 'lbp-train-fold_1.csv',\n",
    "    'lbp-train-fold_2.csv', 'lbp-train-fold_3.csv', 'lbp-train-fold_4.csv'\n",
    "]\n",
    "test_file = 'lbp-test.csv'\n",
    "\n",
    "# Carregar os dados de treino e concatenar em um único DataFrame\n",
    "try:\n",
    "    train_dfs = [pd.read_csv(file) for file in train_files]\n",
    "    df = pd.concat(train_dfs, ignore_index=True)\n",
    "    test_df = pd.read_csv(test_file)\n",
    "except Exception as e:\n",
    "    print(f\"Erro ao carregar arquivos: {e}\")\n",
    "    exit()\n",
    "\n",
    "# Definir as colunas de atributos e a coluna alvo\n",
    "attribute_columns = [f'attribute{i}' for i in range(1, 60)]\n",
    "target_column = 'class'\n",
    "\n",
    "# Separando os atributos e a coluna alvo para treino e teste\n",
    "X = df[attribute_columns]\n",
    "y = df[target_column]\n",
    "# Dividir o conjunto de dados com estratificação\n",
    "X_train, X_test, y_train, y_test = train_test_split(\n",
    "    X, y, test_size=0.2, stratify=y, random_state=42\n",
    ")\n"
   ]
  },
  {
   "cell_type": "code",
   "execution_count": 186,
   "id": "0062c423",
   "metadata": {},
   "outputs": [],
   "source": [
    "# Aplicar a técnica de balanceamento SMOTETomek\n",
    "smotetomek = SMOTETomek(random_state=80)\n",
    "X_resampled, y_resampled = smotetomek.fit_resample(X_train, y_train)\n"
   ]
  },
  {
   "cell_type": "code",
   "execution_count": 187,
   "id": "135cc498",
   "metadata": {},
   "outputs": [],
   "source": [
    "# Normalizar os dados\n",
    "scaler = StandardScaler()\n",
    "X_resampled = scaler.fit_transform(X_resampled)\n",
    "X_test = scaler.transform(X_test)\n",
    "\n",
    "# Selecionar os melhores atributos com SelectKBest\n",
    "k_best = 55\n",
    "selector = SelectKBest(score_func=f_classif, k=k_best)\n",
    "X_resampled_selected = selector.fit_transform(X_resampled, y_resampled)\n",
    "X_test_selected = selector.transform(X_test)"
   ]
  },
  {
   "cell_type": "code",
   "execution_count": 188,
   "id": "d5ad89f8",
   "metadata": {},
   "outputs": [
    {
     "name": "stdout",
     "output_type": "stream",
     "text": [
      "Selecionados os 55 melhores atributos.\n",
      "Melhores Parâmetros: {'max_depth': None, 'min_samples_leaf': 4, 'min_samples_split': 10}\n",
      "Melhor Pontuação de Validação Cruzada: 0.9882333602279395\n"
     ]
    }
   ],
   "source": [
    "print(f\"Selecionados os {k_best} melhores atributos.\")\n",
    "\n",
    "# Definir a grade de parâmetros para otimização\n",
    "param_grid = {\n",
    "    'max_depth': [3, 5, 10, None],\n",
    "    'min_samples_split': [2, 5, 10],\n",
    "    'min_samples_leaf': [1, 2, 4]\n",
    "}\n",
    "\n",
    "# Configurar o modelo base para a busca\n",
    "clf = DecisionTreeClassifier(random_state=42)\n",
    "\n",
    "# Configurar o GridSearchCV com validação cruzada estratificada e F1 Macro\n",
    "grid_search = GridSearchCV(\n",
    "    estimator=clf,\n",
    "    param_grid=param_grid,\n",
    "    cv=StratifiedKFold(n_splits=5),\n",
    "    scoring='roc_auc_ovo',\n",
    "    n_jobs=-1\n",
    ")\n",
    "\n",
    "# Ajustar o GridSearchCV aos dados de treino balanceados\n",
    "grid_search.fit(X_resampled, y_resampled)\n",
    "\n",
    "# Exibir os melhores parâmetros e pontuação de validação cruzada\n",
    "best_params = grid_search.best_params_\n",
    "best_score = grid_search.best_score_\n",
    "print(\"Melhores Parâmetros:\", best_params)\n",
    "print(\"Melhor Pontuação de Validação Cruzada:\", best_score)"
   ]
  },
  {
   "cell_type": "code",
   "execution_count": 189,
   "id": "cfb44bba",
   "metadata": {},
   "outputs": [
    {
     "name": "stdout",
     "output_type": "stream",
     "text": [
      "Random Forest Accuracy: 0.968944099378882\n",
      "Random Forest F1 Score (Macro): 0.7474760222110046\n",
      "\n",
      "Relatório de Classificação:\n",
      "                                                   precision    recall  f1-score   support\n",
      "\n",
      "                                        R/Normal       0.97      0.99      0.98       140\n",
      "R/Pneumonia/Acellular/Viral/Coronavirus/COVID-19       1.00      0.85      0.92        13\n",
      "    R/Pneumonia/Acellular/Viral/Coronavirus/MERS       0.00      0.00      0.00         1\n",
      "    R/Pneumonia/Acellular/Viral/Coronavirus/SARS       1.00      1.00      1.00         2\n",
      "           R/Pneumonia/Acellular/Viral/Varicella       0.50      1.00      0.67         1\n",
      "    R/Pneumonia/Celullar/Bacterial/Streptococcus       1.00      1.00      1.00         2\n",
      "        R/Pneumonia/Celullar/Fungus/Pneumocystis       1.00      0.50      0.67         2\n",
      "\n",
      "                                        accuracy                           0.97       161\n",
      "                                       macro avg       0.78      0.76      0.75       161\n",
      "                                    weighted avg       0.97      0.97      0.97       161\n",
      "\n"
     ]
    },
    {
     "name": "stderr",
     "output_type": "stream",
     "text": [
      "c:\\Users\\X5-Melhorado\\AppData\\Local\\Programs\\Python\\Python311\\Lib\\site-packages\\sklearn\\metrics\\_classification.py:1531: UndefinedMetricWarning: Precision is ill-defined and being set to 0.0 in labels with no predicted samples. Use `zero_division` parameter to control this behavior.\n",
      "  _warn_prf(average, modifier, f\"{metric.capitalize()} is\", len(result))\n",
      "c:\\Users\\X5-Melhorado\\AppData\\Local\\Programs\\Python\\Python311\\Lib\\site-packages\\sklearn\\metrics\\_classification.py:1531: UndefinedMetricWarning: Precision is ill-defined and being set to 0.0 in labels with no predicted samples. Use `zero_division` parameter to control this behavior.\n",
      "  _warn_prf(average, modifier, f\"{metric.capitalize()} is\", len(result))\n",
      "c:\\Users\\X5-Melhorado\\AppData\\Local\\Programs\\Python\\Python311\\Lib\\site-packages\\sklearn\\metrics\\_classification.py:1531: UndefinedMetricWarning: Precision is ill-defined and being set to 0.0 in labels with no predicted samples. Use `zero_division` parameter to control this behavior.\n",
      "  _warn_prf(average, modifier, f\"{metric.capitalize()} is\", len(result))\n"
     ]
    },
    {
     "data": {
      "image/png": "[encoded data removed]",
      "text/plain": [
       "<Figure size 800x600 with 1 Axes>"
      ]
     },
     "metadata": {},
     "output_type": "display_data"
    }
   ],
   "source": [
    "# Treinar Random Forest com os melhores parâmetros e pesos balanceados\n",
    "rf = RandomForestClassifier(\n",
    "    n_estimators=566,\n",
    "    random_state=42,\n",
    "    class_weight='balanced',\n",
    "    **best_params\n",
    ")\n",
    "rf.fit(X_resampled_selected, y_resampled)\n",
    "\n",
    "# Fazer previsões no conjunto de teste\n",
    "y_pred_rf = rf.predict(X_test_selected)\n",
    "\n",
    "# Avaliar o modelo\n",
    "accuracy_rf = accuracy_score(y_test, y_pred_rf)\n",
    "conf_matrix_rf = confusion_matrix(y_test, y_pred_rf)\n",
    "f1_macro_rf = f1_score(y_test, y_pred_rf, average='macro')\n",
    "\n",
    "print(\"Random Forest Accuracy:\", accuracy_rf)\n",
    "print(\"Random Forest F1 Score (Macro):\", f1_macro_rf)\n",
    "print(\"\\nRelatório de Classificação:\\n\", classification_report(y_test, y_pred_rf))\n",
    "\n",
    "# Visualizar a matriz de confusão\n",
    "plt.figure(figsize=(8, 6))\n",
    "sns.heatmap(conf_matrix_rf, annot=True, fmt=\"d\", cmap=\"Blues\", cbar=False,\n",
    "            xticklabels=[\"Classe 0\", \"Classe 1\"], yticklabels=[\"Classe 0\", \"Classe 1\"])\n",
    "plt.title(\"Matriz de Confusão - Random Forest\")\n",
    "plt.ylabel(\"Valores Reais\")\n",
    "plt.xlabel(\"Valores Preditos\")\n",
    "plt.show()"
   ]
  }
 ],
 "metadata": {
  "kernelspec": {
   "display_name": "Python 3",
   "language": "python",
   "name": "python3"
  },
  "language_info": {
   "codemirror_mode": {
    "name": "ipython",
    "version": 3
   },
   "file_extension": ".py",
   "mimetype": "text/x-python",
   "name": "python",
   "nbconvert_exporter": "python",
   "pygments_lexer": "ipython3",
   "version": "3.11.4"
  }
 },
 "nbformat": 4,
 "nbformat_minor": 5
}
